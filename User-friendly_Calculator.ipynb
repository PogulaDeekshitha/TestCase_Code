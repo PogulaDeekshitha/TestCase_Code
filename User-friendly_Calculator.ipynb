{
 "cells": [
  {
   "cell_type": "code",
   "execution_count": 4,
   "id": "8b187fdc",
   "metadata": {},
   "outputs": [
    {
     "name": "stdout",
     "output_type": "stream",
     "text": [
      "1.Addition\n",
      "2.Subtraction\n",
      "3.Multipication\n",
      "4.Division\n",
      "Please enter option4\n",
      "Enter first value:54\n",
      "Enter second value:4\n",
      "The division value is: 13.5\n"
     ]
    }
   ],
   "source": [
    "def add(a,b):\n",
    "    return a+b\n",
    "def sub(a,b):\n",
    "    return a-b\n",
    "def Mul(a,b):\n",
    "    return a*b\n",
    "def div(a,b):\n",
    "    return a/b\n",
    "print(\"1.Addition\")\n",
    "print(\"2.Subtraction\")\n",
    "print(\"3.Multipication\")\n",
    "print(\"4.Division\")\n",
    "choice=int(input(\"Please enter option\"))\n",
    "num1=float(int(input(\"Enter first value:\")))\n",
    "num2=float(int(input(\"Enter second value:\")))\n",
    "if choice==1:\n",
    "    n=add(num1,num2)\n",
    "    print(\"The addition value is:\",n)\n",
    "elif choice==2:\n",
    "    n=sub(num1,num2)\n",
    "    print(\"The subtraction value is:\",n)\n",
    "elif choice==3:\n",
    "    n=Mul(num1,num2)\n",
    "    print(\"The Multiplication value is:\",n)\n",
    "elif choice==4:\n",
    "    n=div(num1,num2)\n",
    "    print(\"The division value is:\",n)\n",
    "else:\n",
    "    print(\"Invalid\")"
   ]
  },
  {
   "cell_type": "code",
   "execution_count": null,
   "id": "00c3ecc9",
   "metadata": {},
   "outputs": [],
   "source": []
  }
 ],
 "metadata": {
  "kernelspec": {
   "display_name": "Python 3 (ipykernel)",
   "language": "python",
   "name": "python3"
  },
  "language_info": {
   "codemirror_mode": {
    "name": "ipython",
    "version": 3
   },
   "file_extension": ".py",
   "mimetype": "text/x-python",
   "name": "python",
   "nbconvert_exporter": "python",
   "pygments_lexer": "ipython3",
   "version": "3.11.4"
  }
 },
 "nbformat": 4,
 "nbformat_minor": 5
}
